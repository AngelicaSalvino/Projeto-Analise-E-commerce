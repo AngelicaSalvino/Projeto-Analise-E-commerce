{
 "cells": [
  {
   "cell_type": "code",
   "execution_count": 2,
   "metadata": {},
   "outputs": [],
   "source": [
    "import subprocess\n",
    "import sys\n",
    "import os\n",
    "import json\n",
    "\n",
    "def install(package):\n",
    "    subprocess.check_call([sys.executable, \"-m\", \"pip\", \"install\", package])\n",
    "\n",
    "install('kaggle')\n",
    "install(\"pandas\")\n",
    "install(\"numpy\")\n",
    "install(\"matplotlib\")\n",
    "install(\"seaborn\")\n"
   ]
  },
  {
   "cell_type": "markdown",
   "metadata": {},
   "source": [
    " Criando o arquivo `kaggle.json` para autenticação na plataforma da Kaggle"
   ]
  },
  {
   "cell_type": "code",
   "execution_count": 3,
   "metadata": {},
   "outputs": [],
   "source": [
    "install(\"python-dotenv\")\n",
    "\n",
    "from dotenv import load_dotenv\n",
    "\n",
    "load_dotenv()\n",
    "\n",
    "kaggle_config = {\n",
    "    \"username\": os.getenv('USER'),\n",
    "    \"key\": os.getenv('KEY')\n",
    "}\n",
    "\n",
    "os.makedirs(os.path.join(os.path.expanduser(\"~\"), \".kaggle\"), exist_ok=True)\n",
    "\n",
    "with open(os.path.join(os.path.expanduser(\"~\"), \".kaggle/kaggle.json\"), \"w\") as file:\n",
    "    json.dump(kaggle_config, file)\n",
    "\n",
    "os.chmod(os.path.join(os.path.expanduser(\"~\"), \".kaggle/kaggle.json\"), 0o600)"
   ]
  },
  {
   "cell_type": "markdown",
   "metadata": {},
   "source": [
    "Baixando o dataset `brazilian-ecommerce`"
   ]
  },
  {
   "cell_type": "code",
   "execution_count": 16,
   "metadata": {},
   "outputs": [],
   "source": [
    "def download_kaggle_dataset(dataset):\n",
    "    subprocess.run([\"kaggle\", \"datasets\", \"download\", \"-d\", dataset])\n",
    "\n",
    "download_kaggle_dataset(\"olistbr/brazilian-ecommerce\")"
   ]
  },
  {
   "cell_type": "markdown",
   "metadata": {},
   "source": [
    "Dezipando o arquivo do dataset"
   ]
  },
  {
   "cell_type": "code",
   "execution_count": 5,
   "metadata": {},
   "outputs": [],
   "source": [
    "\n",
    "import zipfile\n",
    "import pandas as pd\n",
    "import numpy as np\n",
    "import matplotlib.pyplot as plt\n",
    "import seaborn as sns\n",
    "\n",
    "\n",
    "with zipfile.ZipFile(\"brazilian-ecommerce.zip\", \"r\") as zip_ref:\n",
    "    zip_ref.extractall(\"brazilian_ecommerce\")\n"
   ]
  },
  {
   "cell_type": "markdown",
   "metadata": {},
   "source": [
    "Acessando o dataset através da biblioteca `pandas`"
   ]
  },
  {
   "cell_type": "code",
   "execution_count": 17,
   "metadata": {},
   "outputs": [],
   "source": [
    "# Criação de uma lista para identificar valores ausentes\n",
    "lista_labels_valores_ausentes = [\"n/a\", \"na\", \"undefined\"]\n",
    "\n",
    "# Carregamento dos datasets\n",
    "customers = pd.read_csv(\"brazilian_ecommerce/olist_customers_dataset.csv\", na_values = lista_labels_valores_ausentes)\n",
    "geolocation = pd.read_csv(\"brazilian_ecommerce/olist_geolocation_dataset.csv\", na_values = lista_labels_valores_ausentes)\n",
    "order_items = pd.read_csv(\"brazilian_ecommerce/olist_order_items_dataset.csv\", na_values = lista_labels_valores_ausentes)\n",
    "payments = pd.read_csv(\"brazilian_ecommerce/olist_order_payments_dataset.csv\", na_values = lista_labels_valores_ausentes)\n",
    "reviews = pd.read_csv(\"brazilian_ecommerce/olist_order_reviews_dataset.csv\", na_values = lista_labels_valores_ausentes)\n",
    "orders = pd.read_csv(\"brazilian_ecommerce/olist_orders_dataset.csv\", na_values = lista_labels_valores_ausentes)\n",
    "products = pd.read_csv(\"brazilian_ecommerce/olist_products_dataset.csv\", na_values = lista_labels_valores_ausentes)\n",
    "sellers = pd.read_csv(\"brazilian_ecommerce/olist_sellers_dataset.csv\", na_values = lista_labels_valores_ausentes)\n",
    "category = pd.read_csv(\"brazilian_ecommerce/product_category_name_translation.csv\", na_values = lista_labels_valores_ausentes)\n"
   ]
  },
  {
   "cell_type": "markdown",
   "metadata": {},
   "source": [
    "Unindo todas as tabelas"
   ]
  },
  {
   "cell_type": "code",
   "execution_count": 18,
   "metadata": {},
   "outputs": [],
   "source": [
    "# Unindo as tabelas\n",
    "merged_data = pd.merge(orders, customers, on='customer_id')\n",
    "merged_data = pd.merge(merged_data, order_items, on='order_id')\n",
    "merged_data = pd.merge(merged_data, products, on='product_id')\n",
    "merged_data = pd.merge(merged_data, reviews, on='order_id')"
   ]
  },
  {
   "cell_type": "markdown",
   "metadata": {},
   "source": [
    "Mostrando o total de registros por dataset"
   ]
  },
  {
   "cell_type": "code",
   "execution_count": 19,
   "metadata": {},
   "outputs": [
    {
     "name": "stdout",
     "output_type": "stream",
     "text": [
      "        Tabela Total de Registros\n",
      "0    customers              99441\n",
      "1  geolocation            1000163\n",
      "2  geolocation            1000163\n",
      "3  order_items             112650\n",
      "4     payments             103886\n",
      "5      reviews              99224\n",
      "6       orders              99441\n",
      "7     products              32951\n",
      "8      sellers               3095\n",
      "9     category                 71\n"
     ]
    }
   ],
   "source": [
    "# Total de registros por dataset\n",
    "count_array = np.array([\n",
    "    [\"customers\", len(customers)],\n",
    "    [\"geolocation\", len(geolocation)],\n",
    "    ['geolocation', len(geolocation)],\n",
    "    ['order_items', len(order_items)],\n",
    "    ['payments', len(payments)],\n",
    "    ['reviews', len(reviews)],\n",
    "    ['orders', len(orders)],\n",
    "    ['products', len(products)],\n",
    "    ['sellers', len(sellers)],\n",
    "    ['category', len(category)]\n",
    "])\n",
    "\n",
    "count_record = pd.DataFrame(count_array, columns = [\"Tabela\", \"Total de Registros\"])\n",
    "print(count_record)"
   ]
  },
  {
   "cell_type": "markdown",
   "metadata": {},
   "source": [
    "Criando uma função para fazer um resumo da tabela informada"
   ]
  },
  {
   "cell_type": "code",
   "execution_count": 10,
   "metadata": {},
   "outputs": [],
   "source": [
    "# Função para resumir a tabela informada\n",
    "def resumo_tabela(tabela):\n",
    "    print(f\"Quantidade de colunas: {tabela.shape[1]}\\nQuantidade de registros: {tabela.shape[0]}\\n\")\n",
    "\n",
    "    porcentagem_nulls = (tabela.isnull().sum() / tabela.shape[0]) * 100\n",
    "\n",
    "    print(\"Porcentagem de valores ausentes por coluna:\")\n",
    "    print(round(porcentagem_nulls.sort_values(ascending=False), 2))\n",
    "\n",
    "    print(tabela.head(2))\n"
   ]
  },
  {
   "cell_type": "markdown",
   "metadata": {},
   "source": [
    "Mostrando o resumo as Tabelas"
   ]
  },
  {
   "cell_type": "code",
   "execution_count": 11,
   "metadata": {},
   "outputs": [
    {
     "name": "stdout",
     "output_type": "stream",
     "text": [
      "Quantidade de colunas: 5\n",
      "Quantidade de registros: 99441\n",
      "\n",
      "Porcentagem de valores ausentes por coluna:\n",
      "customer_id                 0.0\n",
      "customer_unique_id          0.0\n",
      "customer_zip_code_prefix    0.0\n",
      "customer_city               0.0\n",
      "customer_state              0.0\n",
      "dtype: float64\n",
      "                        customer_id                customer_unique_id  \\\n",
      "0  06b8999e2fba1a1fbc88172c00ba8bc7  861eff4711a542e4b93843c6dd7febb0   \n",
      "1  18955e83d337fd6b2def6b18a428ac77  290c77bc529b7ac935b93aa66c333dc3   \n",
      "\n",
      "   customer_zip_code_prefix          customer_city customer_state  \n",
      "0                     14409                 franca             SP  \n",
      "1                      9790  sao bernardo do campo             SP  \n"
     ]
    }
   ],
   "source": [
    "resumo_tabela(customers)"
   ]
  },
  {
   "cell_type": "code",
   "execution_count": 12,
   "metadata": {},
   "outputs": [
    {
     "name": "stdout",
     "output_type": "stream",
     "text": [
      "Quantidade de colunas: 5\n",
      "Quantidade de registros: 1000163\n",
      "\n",
      "Porcentagem de valores ausentes por coluna:\n",
      "geolocation_zip_code_prefix    0.0\n",
      "geolocation_lat                0.0\n",
      "geolocation_lng                0.0\n",
      "geolocation_city               0.0\n",
      "geolocation_state              0.0\n",
      "dtype: float64\n",
      "   geolocation_zip_code_prefix  geolocation_lat  geolocation_lng  \\\n",
      "0                         1037       -23.545621       -46.639292   \n",
      "1                         1046       -23.546081       -46.644820   \n",
      "\n",
      "  geolocation_city geolocation_state  \n",
      "0        sao paulo                SP  \n",
      "1        sao paulo                SP  \n"
     ]
    }
   ],
   "source": [
    "resumo_tabela(geolocation)"
   ]
  },
  {
   "cell_type": "code",
   "execution_count": 13,
   "metadata": {},
   "outputs": [
    {
     "name": "stdout",
     "output_type": "stream",
     "text": [
      "Quantidade de colunas: 7\n",
      "Quantidade de registros: 112650\n",
      "\n",
      "Porcentagem de valores ausentes por coluna:\n",
      "order_id               0.0\n",
      "order_item_id          0.0\n",
      "product_id             0.0\n",
      "seller_id              0.0\n",
      "shipping_limit_date    0.0\n",
      "price                  0.0\n",
      "freight_value          0.0\n",
      "dtype: float64\n",
      "                           order_id  order_item_id  \\\n",
      "0  00010242fe8c5a6d1ba2dd792cb16214              1   \n",
      "1  00018f77f2f0320c557190d7a144bdd3              1   \n",
      "\n",
      "                         product_id                         seller_id  \\\n",
      "0  4244733e06e7ecb4970a6e2683c13e61  48436dade18ac8b2bce089ec2a041202   \n",
      "1  e5f2d52b802189ee658865ca93d83a8f  dd7ddc04e1b6c2c614352b383efe2d36   \n",
      "\n",
      "   shipping_limit_date  price  freight_value  \n",
      "0  2017-09-19 09:45:35   58.9          13.29  \n",
      "1  2017-05-03 11:05:13  239.9          19.93  \n"
     ]
    }
   ],
   "source": [
    "resumo_tabela(order_items)"
   ]
  },
  {
   "cell_type": "code",
   "execution_count": null,
   "metadata": {},
   "outputs": [
    {
     "name": "stdout",
     "output_type": "stream",
     "text": [
      "Quantidade de colunas: 5\n",
      "Quantidade de registros: 103886\n",
      "\n",
      "Porcentagem de valores ausentes por coluna:\n",
      "order_id                0.0\n",
      "payment_sequential      0.0\n",
      "payment_type            0.0\n",
      "payment_installments    0.0\n",
      "payment_value           0.0\n",
      "dtype: float64\n",
      "                           order_id  payment_sequential payment_type  \\\n",
      "0  b81ef226f3fe1789b1e8b2acac839d17                   1  credit_card   \n",
      "1  a9810da82917af2d9aefd1278f1dcfa0                   1  credit_card   \n",
      "\n",
      "   payment_installments  payment_value  \n",
      "0                     8          99.33  \n",
      "1                     1          24.39  \n"
     ]
    }
   ],
   "source": [
    "resumo_tabela(payments)"
   ]
  },
  {
   "cell_type": "code",
   "execution_count": null,
   "metadata": {},
   "outputs": [
    {
     "name": "stdout",
     "output_type": "stream",
     "text": [
      "Quantidade de colunas: 7\n",
      "Quantidade de registros: 99224\n",
      "\n",
      "Porcentagem de valores ausentes por coluna:\n",
      "review_comment_title       88.34\n",
      "review_comment_message     58.70\n",
      "review_id                   0.00\n",
      "order_id                    0.00\n",
      "review_score                0.00\n",
      "review_creation_date        0.00\n",
      "review_answer_timestamp     0.00\n",
      "dtype: float64\n",
      "                          review_id                          order_id  \\\n",
      "0  7bc2406110b926393aa56f80a40eba40  73fc7af87114b39712e6da79b0a377eb   \n",
      "1  80e641a11e56f04c1ad469d5645fdfde  a548910a1c6147796b98fdf73dbeba33   \n",
      "\n",
      "   review_score review_comment_title review_comment_message  \\\n",
      "0             4                  NaN                    NaN   \n",
      "1             5                  NaN                    NaN   \n",
      "\n",
      "  review_creation_date review_answer_timestamp  \n",
      "0  2018-01-18 00:00:00     2018-01-18 21:46:59  \n",
      "1  2018-03-10 00:00:00     2018-03-11 03:05:13  \n"
     ]
    }
   ],
   "source": [
    "resumo_tabela(reviews)"
   ]
  },
  {
   "cell_type": "code",
   "execution_count": null,
   "metadata": {},
   "outputs": [
    {
     "name": "stdout",
     "output_type": "stream",
     "text": [
      "Quantidade de colunas: 8\n",
      "Quantidade de registros: 99441\n",
      "\n",
      "Porcentagem de valores ausentes por coluna:\n",
      "order_delivered_customer_date    2.98\n",
      "order_delivered_carrier_date     1.79\n",
      "order_approved_at                0.16\n",
      "order_id                         0.00\n",
      "customer_id                      0.00\n",
      "order_status                     0.00\n",
      "order_purchase_timestamp         0.00\n",
      "order_estimated_delivery_date    0.00\n",
      "dtype: float64\n",
      "                           order_id                       customer_id  \\\n",
      "0  e481f51cbdc54678b7cc49136f2d6af7  9ef432eb6251297304e76186b10a928d   \n",
      "1  53cdb2fc8bc7dce0b6741e2150273451  b0830fb4747a6c6d20dea0b8c802d7ef   \n",
      "\n",
      "  order_status order_purchase_timestamp    order_approved_at  \\\n",
      "0    delivered      2017-10-02 10:56:33  2017-10-02 11:07:15   \n",
      "1    delivered      2018-07-24 20:41:37  2018-07-26 03:24:27   \n",
      "\n",
      "  order_delivered_carrier_date order_delivered_customer_date  \\\n",
      "0          2017-10-04 19:55:00           2017-10-10 21:25:13   \n",
      "1          2018-07-26 14:31:00           2018-08-07 15:27:45   \n",
      "\n",
      "  order_estimated_delivery_date  \n",
      "0           2017-10-18 00:00:00  \n",
      "1           2018-08-13 00:00:00  \n"
     ]
    }
   ],
   "source": [
    "resumo_tabela(orders)"
   ]
  },
  {
   "cell_type": "code",
   "execution_count": null,
   "metadata": {},
   "outputs": [
    {
     "name": "stdout",
     "output_type": "stream",
     "text": [
      "Quantidade de colunas: 9\n",
      "Quantidade de registros: 32951\n",
      "\n",
      "Porcentagem de valores ausentes por coluna:\n",
      "product_category_name         1.85\n",
      "product_name_lenght           1.85\n",
      "product_description_lenght    1.85\n",
      "product_photos_qty            1.85\n",
      "product_weight_g              0.01\n",
      "product_length_cm             0.01\n",
      "product_height_cm             0.01\n",
      "product_width_cm              0.01\n",
      "product_id                    0.00\n",
      "dtype: float64\n",
      "                         product_id product_category_name  \\\n",
      "0  1e9e8ef04dbcff4541ed26657ea517e5            perfumaria   \n",
      "1  3aa071139cb16b67ca9e5dea641aaa2f                 artes   \n",
      "\n",
      "   product_name_lenght  product_description_lenght  product_photos_qty  \\\n",
      "0                 40.0                       287.0                 1.0   \n",
      "1                 44.0                       276.0                 1.0   \n",
      "\n",
      "   product_weight_g  product_length_cm  product_height_cm  product_width_cm  \n",
      "0             225.0               16.0               10.0              14.0  \n",
      "1            1000.0               30.0               18.0              20.0  \n"
     ]
    }
   ],
   "source": [
    "resumo_tabela(products)"
   ]
  },
  {
   "cell_type": "code",
   "execution_count": null,
   "metadata": {},
   "outputs": [
    {
     "name": "stdout",
     "output_type": "stream",
     "text": [
      "Quantidade de colunas: 4\n",
      "Quantidade de registros: 3095\n",
      "\n",
      "Porcentagem de valores ausentes por coluna:\n",
      "seller_id                 0.0\n",
      "seller_zip_code_prefix    0.0\n",
      "seller_city               0.0\n",
      "seller_state              0.0\n",
      "dtype: float64\n",
      "                          seller_id  seller_zip_code_prefix seller_city  \\\n",
      "0  3442f8959a84dea7ee197c632cb2df15                   13023    campinas   \n",
      "1  d1b65fc7debc3361ea86b5f14c68d2e2                   13844  mogi guacu   \n",
      "\n",
      "  seller_state  \n",
      "0           SP  \n",
      "1           SP  \n"
     ]
    }
   ],
   "source": [
    "resumo_tabela(sellers)"
   ]
  },
  {
   "cell_type": "code",
   "execution_count": null,
   "metadata": {},
   "outputs": [
    {
     "name": "stdout",
     "output_type": "stream",
     "text": [
      "Quantidade de colunas: 2\n",
      "Quantidade de registros: 71\n",
      "\n",
      "Porcentagem de valores ausentes por coluna:\n",
      "product_category_name            0.0\n",
      "product_category_name_english    0.0\n",
      "dtype: float64\n",
      "    product_category_name product_category_name_english\n",
      "0            beleza_saude                 health_beauty\n",
      "1  informatica_acessorios         computers_accessories\n"
     ]
    }
   ],
   "source": [
    "resumo_tabela(category)"
   ]
  },
  {
   "cell_type": "markdown",
   "metadata": {},
   "source": [
    "Contagem de valores únicos por categoria"
   ]
  },
  {
   "cell_type": "code",
   "execution_count": null,
   "metadata": {},
   "outputs": [
    {
     "data": {
      "text/plain": [
       "product_category_name\n",
       "cama_mesa_banho                  3029\n",
       "esporte_lazer                    2867\n",
       "moveis_decoracao                 2657\n",
       "beleza_saude                     2444\n",
       "utilidades_domesticas            2335\n",
       "                                 ... \n",
       "fashion_roupa_infanto_juvenil       5\n",
       "casa_conforto_2                     5\n",
       "pc_gamer                            3\n",
       "seguros_e_servicos                  2\n",
       "cds_dvds_musicais                   1\n",
       "Name: count, Length: 73, dtype: int64"
      ]
     },
     "execution_count": 16,
     "metadata": {},
     "output_type": "execute_result"
    }
   ],
   "source": [
    "products[\"product_category_name\"].value_counts()"
   ]
  },
  {
   "cell_type": "code",
   "execution_count": null,
   "metadata": {},
   "outputs": [
    {
     "data": {
      "text/plain": [
       "product_id               489ae2aa008f021502940f251d4cce7f\n",
       "product_category_name               utilidades_domesticas\n",
       "price                                              6735.0\n",
       "Name: 79443, dtype: object"
      ]
     },
     "execution_count": 37,
     "metadata": {},
     "output_type": "execute_result"
    }
   ],
   "source": [
    "produtoMaisCaro = merged_data.loc[merged_data[\"price\"].idxmax()]\n",
    "\n",
    "produtoMaisCaro[['product_id', 'product_category_name', 'price']]"
   ]
  },
  {
   "cell_type": "code",
   "execution_count": null,
   "metadata": {},
   "outputs": [
    {
     "data": {
      "text/plain": [
       "product_id                8a3254bee785a526d548a81a9bc3c9be\n",
       "product_category_name    construcao_ferramentas_construcao\n",
       "price                                                 0.85\n",
       "Name: 79236, dtype: object"
      ]
     },
     "execution_count": 36,
     "metadata": {},
     "output_type": "execute_result"
    }
   ],
   "source": [
    "produtoMaisBarato = merged_data.loc[merged_data[\"price\"].idxmin()]\n",
    "\n",
    "produtoMaisBarato[[\"product_id\", \"product_category_name\", \"price\"]]"
   ]
  }
 ],
 "metadata": {
  "kernelspec": {
   "display_name": "Python 3",
   "language": "python",
   "name": "python3"
  },
  "language_info": {
   "codemirror_mode": {
    "name": "ipython",
    "version": 3
   },
   "file_extension": ".py",
   "mimetype": "text/x-python",
   "name": "python",
   "nbconvert_exporter": "python",
   "pygments_lexer": "ipython3",
   "version": "3.11.4"
  }
 },
 "nbformat": 4,
 "nbformat_minor": 2
}
