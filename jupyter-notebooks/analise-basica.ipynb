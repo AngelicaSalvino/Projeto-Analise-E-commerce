{
 "cells": [
  {
   "cell_type": "code",
   "execution_count": 1,
   "metadata": {},
   "outputs": [],
   "source": [
    "import subprocess\n",
    "import sys\n",
    "import os\n",
    "import json\n",
    "\n",
    "def install(package):\n",
    "    subprocess.check_call([sys.executable, \"-m\", \"pip\", \"install\", package])\n",
    "\n",
    "install('kaggle')\n",
    "install(\"pandas\")\n",
    "install(\"numpy\")\n",
    "install(\"matplotlib\")\n",
    "install(\"seaborn\")\n"
   ]
  },
  {
   "cell_type": "markdown",
   "metadata": {},
   "source": [
    " Criando o arquivo `kaggle.json` para autenticação na plataforma da Kaggle"
   ]
  },
  {
   "cell_type": "code",
   "execution_count": 2,
   "metadata": {},
   "outputs": [],
   "source": [
    "install(\"python-dotenv\")\n",
    "\n",
    "from dotenv import load_dotenv\n",
    "\n",
    "load_dotenv()\n",
    "\n",
    "kaggle_config = {\n",
    "    \"username\": os.getenv('USER'),\n",
    "    \"key\": os.getenv('KEY')\n",
    "}\n",
    "\n",
    "os.makedirs(os.path.join(os.path.expanduser(\"~\"), \".kaggle\"), exist_ok=True)\n",
    "\n",
    "with open(os.path.join(os.path.expanduser(\"~\"), \".kaggle/kaggle.json\"), \"w\") as file:\n",
    "    json.dump(kaggle_config, file)\n",
    "\n",
    "os.chmod(os.path.join(os.path.expanduser(\"~\"), \".kaggle/kaggle.json\"), 0o600)"
   ]
  },
  {
   "cell_type": "markdown",
   "metadata": {},
   "source": [
    "Baixando o dataset `brazilian-ecommerce`"
   ]
  },
  {
   "cell_type": "code",
   "execution_count": 3,
   "metadata": {},
   "outputs": [],
   "source": [
    "def download_kaggle_dataset(dataset):\n",
    "    subprocess.run([\"kaggle\", \"datasets\", \"download\", \"-d\", dataset])\n",
    "\n",
    "download_kaggle_dataset(\"olistbr/brazilian-ecommerce\")"
   ]
  },
  {
   "cell_type": "markdown",
   "metadata": {},
   "source": [
    "Dezipando o arquivo do dataset"
   ]
  },
  {
   "cell_type": "code",
   "execution_count": 4,
   "metadata": {},
   "outputs": [],
   "source": [
    "\n",
    "import zipfile\n",
    "import pandas as pd\n",
    "import numpy as np\n",
    "import matplotlib.pyplot as plt\n",
    "import seaborn as sns\n",
    "\n",
    "\n",
    "with zipfile.ZipFile(\"brazilian-ecommerce.zip\", \"r\") as zip_ref:\n",
    "    zip_ref.extractall(\"brazilian_ecommerce\")\n"
   ]
  },
  {
   "cell_type": "markdown",
   "metadata": {},
   "source": [
    "Acessando o dataset através da biblioteca `pandas`"
   ]
  },
  {
   "cell_type": "code",
   "execution_count": 5,
   "metadata": {},
   "outputs": [],
   "source": [
    "# Criação de uma lista para identificar valores ausentes\n",
    "lista_labels_valores_ausentes = [\"n/a\", \"na\", \"undefined\"]\n",
    "\n",
    "# Carregamento dos datasets\n",
    "customers = pd.read_csv(\"brazilian_ecommerce/olist_customers_dataset.csv\", na_values = lista_labels_valores_ausentes)\n",
    "geolocation = pd.read_csv(\"brazilian_ecommerce/olist_geolocation_dataset.csv\", na_values = lista_labels_valores_ausentes)\n",
    "order_items = pd.read_csv(\"brazilian_ecommerce/olist_order_items_dataset.csv\", na_values = lista_labels_valores_ausentes)\n",
    "payments = pd.read_csv(\"brazilian_ecommerce/olist_order_payments_dataset.csv\", na_values = lista_labels_valores_ausentes)\n",
    "reviews = pd.read_csv(\"brazilian_ecommerce/olist_order_reviews_dataset.csv\", na_values = lista_labels_valores_ausentes)\n",
    "orders = pd.read_csv(\"brazilian_ecommerce/olist_orders_dataset.csv\", na_values = lista_labels_valores_ausentes)\n",
    "products = pd.read_csv(\"brazilian_ecommerce/olist_products_dataset.csv\", na_values = lista_labels_valores_ausentes)\n",
    "sellers = pd.read_csv(\"brazilian_ecommerce/olist_sellers_dataset.csv\", na_values = lista_labels_valores_ausentes)\n",
    "category = pd.read_csv(\"brazilian_ecommerce/product_category_name_translation.csv\", na_values = lista_labels_valores_ausentes)\n"
   ]
  },
  {
   "cell_type": "markdown",
   "metadata": {},
   "source": [
    "Mostrando o total de registros por dataset"
   ]
  },
  {
   "cell_type": "code",
   "execution_count": 7,
   "metadata": {},
   "outputs": [
    {
     "name": "stdout",
     "output_type": "stream",
     "text": [
      "        Tabela Total de Registros\n",
      "0    customers              99441\n",
      "1  geolocation            1000163\n",
      "2  geolocation            1000163\n",
      "3  order_items             112650\n",
      "4     payments             103886\n",
      "5      reviews              99224\n",
      "6       orders              99441\n",
      "7     products              32951\n",
      "8      sellers               3095\n",
      "9     category                 71\n"
     ]
    }
   ],
   "source": [
    "# Total de registros por dataset\n",
    "count_array = np.array([\n",
    "    [\"customers\", len(customers)],\n",
    "    [\"geolocation\", len(geolocation)],\n",
    "    ['geolocation', len(geolocation)],\n",
    "    ['order_items', len(order_items)],\n",
    "    ['payments', len(payments)],\n",
    "    ['reviews', len(reviews)],\n",
    "    ['orders', len(orders)],\n",
    "    ['products', len(products)],\n",
    "    ['sellers', len(sellers)],\n",
    "    ['category', len(category)]\n",
    "])\n",
    "\n",
    "count_record = pd.DataFrame(count_array, columns = [\"Tabela\", \"Total de Registros\"])\n",
    "print(count_record)"
   ]
  },
  {
   "cell_type": "markdown",
   "metadata": {},
   "source": [
    "Criando uma função para fazer um resumo da tabela informada"
   ]
  },
  {
   "cell_type": "code",
   "execution_count": 13,
   "metadata": {},
   "outputs": [],
   "source": [
    "# Função para resumir a tabela informada\n",
    "def resumo_tabela(tabela):\n",
    "    print(f\"Quantidade de colunas: {tabela.shape[1]}\\nQuantidade de registros: {tabela.shape[0]}\\n\")\n",
    "\n",
    "    porcentagem_nulls = (tabela.isnull().sum() / tabela.shape[0]) * 100\n",
    "\n",
    "    print(\"Porcentagem de valores ausentes por coluna:\")\n",
    "    print(round(porcentagem_nulls.sort_values(ascending=False), 2))\n",
    "    \n",
    "\n",
    "    print(tabela.head(2))\n"
   ]
  },
  {
   "cell_type": "markdown",
   "metadata": {},
   "source": [
    "Mostrando o resumo as Tabelas"
   ]
  },
  {
   "cell_type": "code",
   "execution_count": 14,
   "metadata": {},
   "outputs": [
    {
     "name": "stdout",
     "output_type": "stream",
     "text": [
      "Quantidade de colunas: 5\n",
      "Quantidade de registros: 99441\n",
      "\n",
      "Porcentagem de valores ausentes por coluna:\n",
      "customer_id                 0.0\n",
      "customer_unique_id          0.0\n",
      "customer_zip_code_prefix    0.0\n",
      "customer_city               0.0\n",
      "customer_state              0.0\n",
      "dtype: float64\n",
      "                        customer_id                customer_unique_id  \\\n",
      "0  06b8999e2fba1a1fbc88172c00ba8bc7  861eff4711a542e4b93843c6dd7febb0   \n",
      "1  18955e83d337fd6b2def6b18a428ac77  290c77bc529b7ac935b93aa66c333dc3   \n",
      "\n",
      "   customer_zip_code_prefix          customer_city customer_state  \n",
      "0                     14409                 franca             SP  \n",
      "1                      9790  sao bernardo do campo             SP  \n"
     ]
    }
   ],
   "source": [
    "resumo_tabela(customers)"
   ]
  },
  {
   "cell_type": "code",
   "execution_count": 12,
   "metadata": {},
   "outputs": [
    {
     "name": "stdout",
     "output_type": "stream",
     "text": [
      "Quantidade de colunas: 5\n",
      "Quantidade de registros: 1000163\n",
      "\n",
      "Porcentagem de valores ausentes por coluna:\n",
      "geolocation_zip_code_prefix    0.0\n",
      "geolocation_lat                0.0\n",
      "geolocation_lng                0.0\n",
      "geolocation_city               0.0\n",
      "geolocation_state              0.0\n",
      "dtype: float64\n",
      "   geolocation_zip_code_prefix  geolocation_lat  geolocation_lng  \\\n",
      "0                         1037       -23.545621       -46.639292   \n",
      "1                         1046       -23.546081       -46.644820   \n",
      "\n",
      "  geolocation_city geolocation_state  \n",
      "0        sao paulo                SP  \n",
      "1        sao paulo                SP  \n"
     ]
    }
   ],
   "source": [
    "resumo_tabela(geolocation)"
   ]
  },
  {
   "cell_type": "code",
   "execution_count": 13,
   "metadata": {},
   "outputs": [
    {
     "name": "stdout",
     "output_type": "stream",
     "text": [
      "Quantidade de colunas: 7\n",
      "Quantidade de registros: 112650\n",
      "\n",
      "Porcentagem de valores ausentes por coluna:\n",
      "order_id               0.0\n",
      "order_item_id          0.0\n",
      "product_id             0.0\n",
      "seller_id              0.0\n",
      "shipping_limit_date    0.0\n",
      "price                  0.0\n",
      "freight_value          0.0\n",
      "dtype: float64\n",
      "                           order_id  order_item_id  \\\n",
      "0  00010242fe8c5a6d1ba2dd792cb16214              1   \n",
      "1  00018f77f2f0320c557190d7a144bdd3              1   \n",
      "\n",
      "                         product_id                         seller_id  \\\n",
      "0  4244733e06e7ecb4970a6e2683c13e61  48436dade18ac8b2bce089ec2a041202   \n",
      "1  e5f2d52b802189ee658865ca93d83a8f  dd7ddc04e1b6c2c614352b383efe2d36   \n",
      "\n",
      "   shipping_limit_date  price  freight_value  \n",
      "0  2017-09-19 09:45:35   58.9          13.29  \n",
      "1  2017-05-03 11:05:13  239.9          19.93  \n"
     ]
    }
   ],
   "source": [
    "resumo_tabela(order_items)"
   ]
  },
  {
   "cell_type": "code",
   "execution_count": null,
   "metadata": {},
   "outputs": [
    {
     "name": "stdout",
     "output_type": "stream",
     "text": [
      "Quantidade de colunas: 5\n",
      "Quantidade de registros: 103886\n",
      "\n",
      "Porcentagem de valores ausentes por coluna:\n",
      "order_id                0.0\n",
      "payment_sequential      0.0\n",
      "payment_type            0.0\n",
      "payment_installments    0.0\n",
      "payment_value           0.0\n",
      "dtype: float64\n",
      "                           order_id  payment_sequential payment_type  \\\n",
      "0  b81ef226f3fe1789b1e8b2acac839d17                   1  credit_card   \n",
      "1  a9810da82917af2d9aefd1278f1dcfa0                   1  credit_card   \n",
      "\n",
      "   payment_installments  payment_value  \n",
      "0                     8          99.33  \n",
      "1                     1          24.39  \n"
     ]
    }
   ],
   "source": [
    "resumo_tabela(payments)"
   ]
  },
  {
   "cell_type": "code",
   "execution_count": 15,
   "metadata": {},
   "outputs": [
    {
     "name": "stdout",
     "output_type": "stream",
     "text": [
      "Quantidade de colunas: 7\n",
      "Quantidade de registros: 99224\n",
      "\n",
      "Porcentagem de valores ausentes por coluna:\n",
      "review_comment_title       88.34\n",
      "review_comment_message     58.70\n",
      "review_id                   0.00\n",
      "order_id                    0.00\n",
      "review_score                0.00\n",
      "review_creation_date        0.00\n",
      "review_answer_timestamp     0.00\n",
      "dtype: float64\n",
      "                          review_id                          order_id  \\\n",
      "0  7bc2406110b926393aa56f80a40eba40  73fc7af87114b39712e6da79b0a377eb   \n",
      "1  80e641a11e56f04c1ad469d5645fdfde  a548910a1c6147796b98fdf73dbeba33   \n",
      "\n",
      "   review_score review_comment_title review_comment_message  \\\n",
      "0             4                  NaN                    NaN   \n",
      "1             5                  NaN                    NaN   \n",
      "\n",
      "  review_creation_date review_answer_timestamp  \n",
      "0  2018-01-18 00:00:00     2018-01-18 21:46:59  \n",
      "1  2018-03-10 00:00:00     2018-03-11 03:05:13  \n"
     ]
    }
   ],
   "source": [
    "resumo_tabela(reviews)"
   ]
  },
  {
   "cell_type": "markdown",
   "metadata": {},
   "source": [
    "A tabela `reviews` possui 2 colunas com dados nulos:\n",
    "\n",
    "    1. a coluna \"review_coment_title\" está com 88% de dados faltantes \n",
    "    2. a coluna \"review_coment_message\" está com 59% de dados faltantes\n",
    "\n",
    "dadas asa alta proporção de dados faltantes para essas colunas faremos a remoção dessas colunas em nossas análises."
   ]
  },
  {
   "cell_type": "code",
   "execution_count": 16,
   "metadata": {},
   "outputs": [
    {
     "name": "stdout",
     "output_type": "stream",
     "text": [
      "Quantidade de colunas: 5\n",
      "Quantidade de registros: 99224\n",
      "\n",
      "Porcentagem de valores ausentes por coluna:\n",
      "review_id                  0.0\n",
      "order_id                   0.0\n",
      "review_score               0.0\n",
      "review_creation_date       0.0\n",
      "review_answer_timestamp    0.0\n",
      "dtype: float64\n",
      "                          review_id                          order_id  \\\n",
      "0  7bc2406110b926393aa56f80a40eba40  73fc7af87114b39712e6da79b0a377eb   \n",
      "1  80e641a11e56f04c1ad469d5645fdfde  a548910a1c6147796b98fdf73dbeba33   \n",
      "\n",
      "   review_score review_creation_date review_answer_timestamp  \n",
      "0             4  2018-01-18 00:00:00     2018-01-18 21:46:59  \n",
      "1             5  2018-03-10 00:00:00     2018-03-11 03:05:13  \n"
     ]
    }
   ],
   "source": [
    "# Removendo as 2 colunas com alto percentual de valores ausentes\n",
    "reviews = reviews.drop(['review_comment_title', 'review_comment_message'], axis= 1)\n",
    "\n",
    "resumo_tabela(reviews)"
   ]
  },
  {
   "cell_type": "code",
   "execution_count": null,
   "metadata": {},
   "outputs": [
    {
     "name": "stdout",
     "output_type": "stream",
     "text": [
      "Quantidade de colunas: 8\n",
      "Quantidade de registros: 99441\n",
      "\n",
      "Porcentagem de valores ausentes por coluna:\n",
      "order_delivered_customer_date    2.98\n",
      "order_delivered_carrier_date     1.79\n",
      "order_approved_at                0.16\n",
      "order_id                         0.00\n",
      "customer_id                      0.00\n",
      "order_status                     0.00\n",
      "order_purchase_timestamp         0.00\n",
      "order_estimated_delivery_date    0.00\n",
      "dtype: float64\n",
      "                           order_id                       customer_id  \\\n",
      "0  e481f51cbdc54678b7cc49136f2d6af7  9ef432eb6251297304e76186b10a928d   \n",
      "1  53cdb2fc8bc7dce0b6741e2150273451  b0830fb4747a6c6d20dea0b8c802d7ef   \n",
      "\n",
      "  order_status order_purchase_timestamp    order_approved_at  \\\n",
      "0    delivered      2017-10-02 10:56:33  2017-10-02 11:07:15   \n",
      "1    delivered      2018-07-24 20:41:37  2018-07-26 03:24:27   \n",
      "\n",
      "  order_delivered_carrier_date order_delivered_customer_date  \\\n",
      "0          2017-10-04 19:55:00           2017-10-10 21:25:13   \n",
      "1          2018-07-26 14:31:00           2018-08-07 15:27:45   \n",
      "\n",
      "  order_estimated_delivery_date  \n",
      "0           2017-10-18 00:00:00  \n",
      "1           2018-08-13 00:00:00  \n"
     ]
    }
   ],
   "source": [
    "resumo_tabela(orders)"
   ]
  },
  {
   "cell_type": "markdown",
   "metadata": {},
   "source": [
    "A tabela `Orders` possui 3 colunas com valores ausentes:\n",
    "\n",
    "    1. \"Order_delivered_customer_date\" com 3% de valores ausentes\n",
    "    2. \"Order_delivered_carrier_date\" com 2% de valores ausentes\n",
    "    3. \"Order_approved_at\" com menos de 1% dos dados ausentes\n",
    "\n",
    "dada a proporção dos dados ausentes, considero a exclusão dessas linhas para seguirmos com as análises efetivas."
   ]
  },
  {
   "cell_type": "code",
   "execution_count": 17,
   "metadata": {},
   "outputs": [
    {
     "name": "stdout",
     "output_type": "stream",
     "text": [
      "Quantidade de colunas: 8\n",
      "Quantidade de registros: 96461\n",
      "\n",
      "Porcentagem de valores ausentes por coluna:\n",
      "order_id                         0.0\n",
      "customer_id                      0.0\n",
      "order_status                     0.0\n",
      "order_purchase_timestamp         0.0\n",
      "order_approved_at                0.0\n",
      "order_delivered_carrier_date     0.0\n",
      "order_delivered_customer_date    0.0\n",
      "order_estimated_delivery_date    0.0\n",
      "dtype: float64\n",
      "                           order_id                       customer_id  \\\n",
      "0  e481f51cbdc54678b7cc49136f2d6af7  9ef432eb6251297304e76186b10a928d   \n",
      "1  53cdb2fc8bc7dce0b6741e2150273451  b0830fb4747a6c6d20dea0b8c802d7ef   \n",
      "\n",
      "  order_status order_purchase_timestamp    order_approved_at  \\\n",
      "0    delivered      2017-10-02 10:56:33  2017-10-02 11:07:15   \n",
      "1    delivered      2018-07-24 20:41:37  2018-07-26 03:24:27   \n",
      "\n",
      "  order_delivered_carrier_date order_delivered_customer_date  \\\n",
      "0          2017-10-04 19:55:00           2017-10-10 21:25:13   \n",
      "1          2018-07-26 14:31:00           2018-08-07 15:27:45   \n",
      "\n",
      "  order_estimated_delivery_date  \n",
      "0           2017-10-18 00:00:00  \n",
      "1           2018-08-13 00:00:00  \n"
     ]
    }
   ],
   "source": [
    "# Drop das linhas com valores ausentes\n",
    "orders = orders.dropna()\n",
    "\n",
    "resumo_tabela(orders)"
   ]
  },
  {
   "cell_type": "code",
   "execution_count": null,
   "metadata": {},
   "outputs": [
    {
     "name": "stdout",
     "output_type": "stream",
     "text": [
      "Quantidade de colunas: 9\n",
      "Quantidade de registros: 32951\n",
      "\n",
      "Porcentagem de valores ausentes por coluna:\n",
      "product_category_name         1.85\n",
      "product_name_lenght           1.85\n",
      "product_description_lenght    1.85\n",
      "product_photos_qty            1.85\n",
      "product_weight_g              0.01\n",
      "product_length_cm             0.01\n",
      "product_height_cm             0.01\n",
      "product_width_cm              0.01\n",
      "product_id                    0.00\n",
      "dtype: float64\n",
      "                         product_id product_category_name  \\\n",
      "0  1e9e8ef04dbcff4541ed26657ea517e5            perfumaria   \n",
      "1  3aa071139cb16b67ca9e5dea641aaa2f                 artes   \n",
      "\n",
      "   product_name_lenght  product_description_lenght  product_photos_qty  \\\n",
      "0                 40.0                       287.0                 1.0   \n",
      "1                 44.0                       276.0                 1.0   \n",
      "\n",
      "   product_weight_g  product_length_cm  product_height_cm  product_width_cm  \n",
      "0             225.0               16.0               10.0              14.0  \n",
      "1            1000.0               30.0               18.0              20.0  \n"
     ]
    }
   ],
   "source": [
    "resumo_tabela(products)"
   ]
  },
  {
   "cell_type": "markdown",
   "metadata": {},
   "source": [
    "Na planilha `products` existem valores ausentes em todas as colunas que representam menos de 2% do percentual total.\n",
    "Considerando o volume de ausência faremos a exclusão dessas linhas"
   ]
  },
  {
   "cell_type": "code",
   "execution_count": 18,
   "metadata": {},
   "outputs": [
    {
     "name": "stdout",
     "output_type": "stream",
     "text": [
      "Quantidade de colunas: 9\n",
      "Quantidade de registros: 32340\n",
      "\n",
      "Porcentagem de valores ausentes por coluna:\n",
      "product_id                    0.0\n",
      "product_category_name         0.0\n",
      "product_name_lenght           0.0\n",
      "product_description_lenght    0.0\n",
      "product_photos_qty            0.0\n",
      "product_weight_g              0.0\n",
      "product_length_cm             0.0\n",
      "product_height_cm             0.0\n",
      "product_width_cm              0.0\n",
      "dtype: float64\n",
      "                         product_id product_category_name  \\\n",
      "0  1e9e8ef04dbcff4541ed26657ea517e5            perfumaria   \n",
      "1  3aa071139cb16b67ca9e5dea641aaa2f                 artes   \n",
      "\n",
      "   product_name_lenght  product_description_lenght  product_photos_qty  \\\n",
      "0                 40.0                       287.0                 1.0   \n",
      "1                 44.0                       276.0                 1.0   \n",
      "\n",
      "   product_weight_g  product_length_cm  product_height_cm  product_width_cm  \n",
      "0             225.0               16.0               10.0              14.0  \n",
      "1            1000.0               30.0               18.0              20.0  \n"
     ]
    }
   ],
   "source": [
    "# Excluindo as linhas com valores ausentes\n",
    "products = products.dropna()\n",
    "\n",
    "resumo_tabela(products)"
   ]
  },
  {
   "cell_type": "code",
   "execution_count": null,
   "metadata": {},
   "outputs": [
    {
     "name": "stdout",
     "output_type": "stream",
     "text": [
      "Quantidade de colunas: 4\n",
      "Quantidade de registros: 3095\n",
      "\n",
      "Porcentagem de valores ausentes por coluna:\n",
      "seller_id                 0.0\n",
      "seller_zip_code_prefix    0.0\n",
      "seller_city               0.0\n",
      "seller_state              0.0\n",
      "dtype: float64\n",
      "                          seller_id  seller_zip_code_prefix seller_city  \\\n",
      "0  3442f8959a84dea7ee197c632cb2df15                   13023    campinas   \n",
      "1  d1b65fc7debc3361ea86b5f14c68d2e2                   13844  mogi guacu   \n",
      "\n",
      "  seller_state  \n",
      "0           SP  \n",
      "1           SP  \n"
     ]
    }
   ],
   "source": [
    "resumo_tabela(sellers)"
   ]
  },
  {
   "cell_type": "code",
   "execution_count": null,
   "metadata": {},
   "outputs": [
    {
     "name": "stdout",
     "output_type": "stream",
     "text": [
      "Quantidade de colunas: 2\n",
      "Quantidade de registros: 71\n",
      "\n",
      "Porcentagem de valores ausentes por coluna:\n",
      "product_category_name            0.0\n",
      "product_category_name_english    0.0\n",
      "dtype: float64\n",
      "    product_category_name product_category_name_english\n",
      "0            beleza_saude                 health_beauty\n",
      "1  informatica_acessorios         computers_accessories\n"
     ]
    }
   ],
   "source": [
    "resumo_tabela(category)"
   ]
  },
  {
   "cell_type": "markdown",
   "metadata": {},
   "source": [
    "Contagem de valores únicos por categoria"
   ]
  },
  {
   "cell_type": "code",
   "execution_count": null,
   "metadata": {},
   "outputs": [
    {
     "data": {
      "text/plain": [
       "product_category_name\n",
       "cama_mesa_banho                  3029\n",
       "esporte_lazer                    2867\n",
       "moveis_decoracao                 2657\n",
       "beleza_saude                     2444\n",
       "utilidades_domesticas            2335\n",
       "                                 ... \n",
       "fashion_roupa_infanto_juvenil       5\n",
       "casa_conforto_2                     5\n",
       "pc_gamer                            3\n",
       "seguros_e_servicos                  2\n",
       "cds_dvds_musicais                   1\n",
       "Name: count, Length: 73, dtype: int64"
      ]
     },
     "execution_count": 16,
     "metadata": {},
     "output_type": "execute_result"
    }
   ],
   "source": [
    "products[\"product_category_name\"].value_counts()"
   ]
  },
  {
   "cell_type": "code",
   "execution_count": 27,
   "metadata": {},
   "outputs": [],
   "source": [
    "# Reagrupamento das categorias\n",
    "moda_acessorios = ['fashion_bolsas_e_acessorios', 'fashion_calcados', 'fashion_roupa_masculina',\n",
    "                   'fashion_roupa_feminina', 'fashion_underwear_e_moda_praia', 'fashion_esporte', 'relogios_presentes','malas_acessorios', 'fashion_roupa_infanto_juvenil']\n",
    "\n",
    "casa_decoracao = ['cama_mesa_banho', 'moveis_decoracao', 'moveis_escritorio', 'moveis_sala', 'moveis_quarto',\n",
    "                  'moveis_cozinha_area_de_servico_jantar_e_jardim', 'moveis_colchao_e_estofado', \n",
    "                  'casa_conforto', 'casa_conforto_2', 'la_cuisine', 'utilidades_domesticas','eletroportateis', 'portateis_casa_forno_e_cafe','cool_stuff', 'eletrodomesticos', 'eletrodomesticos_2','artes_e_artesanato','ferramentas_jardim', 'climatizacao', 'moveis_colchao_e_estofado', 'portateis_cozinha_e_preparadores_de_alimentos','flores','artigos_de_natal', 'artigos_de_festas']\n",
    "\n",
    "casa_construcao = ['construcao_ferramentas_construcao', 'casa_construcao', 'construcao_ferramentas_seguranca', \n",
    "                   'construcao_ferramentas_jardim', 'construcao_ferramentas_iluminacao', 'construcao_ferramentas_ferramentas','sinalizacao_e_seguranca']\n",
    "\n",
    "eletronicos_tecnologia = ['informatica_acessorios', 'eletronicos', 'tablets_impressao_imagem', 'pcs','consoles_games', 'audio', \n",
    "                          'telefonia', 'telefonia_fixa', 'pc_gamer']\n",
    "\n",
    "infantil = ['bebes']\n",
    "\n",
    "automotivo = ['automotivo']\n",
    "\n",
    "hobbies_entretenimento = ['esporte_lazer', 'brinquedos', 'instrumentos_musicais', 'cds_dvds_musicais', 'dvds_blu_ray',\n",
    "                          'musica', 'cine_foto', 'artes', 'brinquedos', 'audio']\n",
    "\n",
    "pet_shop = ['pet_shop']\n",
    "\n",
    "livros_papelaria = ['livros_interesse_geral', 'livros_tecnicos ', 'livros_importados', 'papelaria']\n",
    "\n",
    "saude_higiene = ['beleza_saude','perfumaria', 'fraldas_higiene']\n",
    "\n",
    "alimentos_bebidas = ['alimentos_bebidas', 'alimentos', 'bebidas']\n",
    "\n",
    "agro_ind_comercio = ['agro_industria_e_comercio','industria_comercio_e_negocios']\n",
    "\n",
    "outros = ['seguros_e_servicos', 'market_place']\n",
    "\n",
    "# Criando uma nova coluna 'categoria_agrupada' com valor padrão 'Outros'\n",
    "products['categoria_agrupada'] = 'Outros'\n",
    "\n",
    "# Aplicando os agrupamentos\n",
    "products.loc[products['product_category_name'].isin(moda_acessorios), 'categoria_agrupada'] = 'Moda e Acessórios'\n",
    "products.loc[products['product_category_name'].isin(casa_decoracao), 'categoria_agrupada'] = 'Casa e Decoração'\n",
    "products.loc[products['product_category_name'].isin(casa_construcao), 'categoria_agrupada'] = 'Casa e Construção'\n",
    "products.loc[products['product_category_name'].isin(eletronicos_tecnologia), 'categoria_agrupada'] = 'Eletrônicos e Tecnologia'\n",
    "products.loc[products['product_category_name'].isin(hobbies_entretenimento), 'categoria_agrupada'] = 'Hobbies e Entretenimento'\n",
    "products.loc[products['product_category_name'].isin(saude_higiene), 'categoria_agrupada'] = 'Saúde e Higiene'\n",
    "products.loc[products['product_category_name'].isin(infantil), 'categoria_agrupada'] = 'Infantil'\n",
    "products.loc[products['product_category_name'].isin(automotivo), 'categoria_agrupada'] = 'Automotivo'\n",
    "products.loc[products['product_category_name'].isin(pet_shop), 'categoria_agrupada'] = 'Pet-Shop'\n",
    "products.loc[products['product_category_name'].isin(livros_papelaria), 'categoria_agrupada'] = 'Livros e Papelaria'\n",
    "products.loc[products['product_category_name'].isin(alimentos_bebidas), 'categoria_agrupada'] = 'Alimentos e Bebidas'\n",
    "products.loc[products['product_category_name'].isin(agro_ind_comercio), 'categoria_agrupada'] = 'Agro, Ind. e Comércio'\n",
    "products.loc[products['product_category_name'].isin(outros), 'categoria_agrupada'] = 'Outros'\n",
    "\n"
   ]
  },
  {
   "cell_type": "code",
   "execution_count": 29,
   "metadata": {},
   "outputs": [
    {
     "name": "stdout",
     "output_type": "stream",
     "text": [
      "Quantidade de colunas: 10\n",
      "Quantidade de registros: 32340\n",
      "\n",
      "Porcentagem de valores ausentes por coluna:\n",
      "product_id                    0.0\n",
      "product_category_name         0.0\n",
      "product_name_lenght           0.0\n",
      "product_description_lenght    0.0\n",
      "product_photos_qty            0.0\n",
      "product_weight_g              0.0\n",
      "product_length_cm             0.0\n",
      "product_height_cm             0.0\n",
      "product_width_cm              0.0\n",
      "categoria_agrupada            0.0\n",
      "dtype: float64\n",
      "                         product_id product_category_name  \\\n",
      "0  1e9e8ef04dbcff4541ed26657ea517e5            perfumaria   \n",
      "1  3aa071139cb16b67ca9e5dea641aaa2f                 artes   \n",
      "\n",
      "   product_name_lenght  product_description_lenght  product_photos_qty  \\\n",
      "0                 40.0                       287.0                 1.0   \n",
      "1                 44.0                       276.0                 1.0   \n",
      "\n",
      "   product_weight_g  product_length_cm  product_height_cm  product_width_cm  \\\n",
      "0             225.0               16.0               10.0              14.0   \n",
      "1            1000.0               30.0               18.0              20.0   \n",
      "\n",
      "         categoria_agrupada  \n",
      "0           Saúde e Higiene  \n",
      "1  Hobbies e Entretenimento  \n"
     ]
    }
   ],
   "source": [
    "resumo_tabela(products)"
   ]
  },
  {
   "cell_type": "code",
   "execution_count": 30,
   "metadata": {},
   "outputs": [
    {
     "data": {
      "image/png": "[encoded data removed]",
      "text/plain": [
       "<Figure size 1200x600 with 1 Axes>"
      ]
     },
     "metadata": {},
     "output_type": "display_data"
    }
   ],
   "source": [
    "# Criando um gráfico de barras\n",
    "plt.figure(figsize=(12, 6))  # Ajuste o tamanho conforme necessário\n",
    "\n",
    "# Contar a frequência de cada categoria agrupada\n",
    "contagem_categorias = products['categoria_agrupada'].value_counts()\n",
    "\n",
    "# Plotar o gráfico de barras\n",
    "contagem_categorias.plot(kind='bar', color='skyblue')\n",
    "plt.title('Contagem de Produtos por Categoria Agrupada')\n",
    "plt.xlabel('Categoria Agrupada')\n",
    "plt.ylabel('Contagem de Produtos')\n",
    "plt.xticks(rotation=45, ha='right')  # Rotacionar os rótulos no eixo x para melhor legibilidade\n",
    "plt.show()"
   ]
  },
  {
   "cell_type": "markdown",
   "metadata": {},
   "source": [
    "Unindo todas as tabelas"
   ]
  },
  {
   "cell_type": "code",
   "execution_count": 31,
   "metadata": {},
   "outputs": [],
   "source": [
    "# Unindo as tabelas\n",
    "merged_data = pd.merge(orders, customers, on='customer_id')\n",
    "merged_data = pd.merge(merged_data, order_items, on='order_id')\n",
    "merged_data = pd.merge(merged_data, products, on='product_id')\n",
    "merged_data = pd.merge(merged_data, reviews, on='order_id')"
   ]
  },
  {
   "cell_type": "code",
   "execution_count": 32,
   "metadata": {},
   "outputs": [
    {
     "name": "stdout",
     "output_type": "stream",
     "text": [
      "Quantidade de colunas: 31\n",
      "Quantidade de registros: 108463\n",
      "\n",
      "Porcentagem de valores ausentes por coluna:\n",
      "order_id                         0.0\n",
      "price                            0.0\n",
      "review_creation_date             0.0\n",
      "review_score                     0.0\n",
      "review_id                        0.0\n",
      "categoria_agrupada               0.0\n",
      "product_width_cm                 0.0\n",
      "product_height_cm                0.0\n",
      "product_length_cm                0.0\n",
      "product_weight_g                 0.0\n",
      "product_photos_qty               0.0\n",
      "product_description_lenght       0.0\n",
      "product_name_lenght              0.0\n",
      "product_category_name            0.0\n",
      "freight_value                    0.0\n",
      "shipping_limit_date              0.0\n",
      "customer_id                      0.0\n",
      "seller_id                        0.0\n",
      "product_id                       0.0\n",
      "order_item_id                    0.0\n",
      "customer_state                   0.0\n",
      "customer_city                    0.0\n",
      "customer_zip_code_prefix         0.0\n",
      "customer_unique_id               0.0\n",
      "order_estimated_delivery_date    0.0\n",
      "order_delivered_customer_date    0.0\n",
      "order_delivered_carrier_date     0.0\n",
      "order_approved_at                0.0\n",
      "order_purchase_timestamp         0.0\n",
      "order_status                     0.0\n",
      "review_answer_timestamp          0.0\n",
      "dtype: float64\n",
      "                           order_id                       customer_id  \\\n",
      "0  e481f51cbdc54678b7cc49136f2d6af7  9ef432eb6251297304e76186b10a928d   \n",
      "1  128e10d95713541c87cd1a2e48201934  a20e8105f23924cd00833fd87daa0831   \n",
      "\n",
      "  order_status order_purchase_timestamp    order_approved_at  \\\n",
      "0    delivered      2017-10-02 10:56:33  2017-10-02 11:07:15   \n",
      "1    delivered      2017-08-15 18:29:31  2017-08-15 20:05:16   \n",
      "\n",
      "  order_delivered_carrier_date order_delivered_customer_date  \\\n",
      "0          2017-10-04 19:55:00           2017-10-10 21:25:13   \n",
      "1          2017-08-17 15:28:33           2017-08-18 14:44:43   \n",
      "\n",
      "  order_estimated_delivery_date                customer_unique_id  \\\n",
      "0           2017-10-18 00:00:00  7c396fd4830fd04220f754e42b4e5bff   \n",
      "1           2017-08-28 00:00:00  3a51803cc0d012c3b5dc8b7528cb05f7   \n",
      "\n",
      "   customer_zip_code_prefix  ... product_photos_qty product_weight_g  \\\n",
      "0                      3149  ...                4.0            500.0   \n",
      "1                      3366  ...                4.0            500.0   \n",
      "\n",
      "   product_length_cm product_height_cm product_width_cm categoria_agrupada  \\\n",
      "0               19.0               8.0             13.0   Casa e Decoração   \n",
      "1               19.0               8.0             13.0   Casa e Decoração   \n",
      "\n",
      "                          review_id  review_score review_creation_date  \\\n",
      "0  a54f0611adc9ed256b57ede6b6eb5114             4  2017-10-11 00:00:00   \n",
      "1  b46f1e34512b0f4c74a72398b03ca788             4  2017-08-19 00:00:00   \n",
      "\n",
      "   review_answer_timestamp  \n",
      "0      2017-10-12 03:43:48  \n",
      "1      2017-08-20 15:16:36  \n",
      "\n",
      "[2 rows x 31 columns]\n"
     ]
    }
   ],
   "source": [
    "resumo_tabela(merged_data)"
   ]
  },
  {
   "cell_type": "code",
   "execution_count": null,
   "metadata": {},
   "outputs": [
    {
     "data": {
      "text/plain": [
       "product_id               489ae2aa008f021502940f251d4cce7f\n",
       "product_category_name               utilidades_domesticas\n",
       "price                                              6735.0\n",
       "Name: 79443, dtype: object"
      ]
     },
     "execution_count": 37,
     "metadata": {},
     "output_type": "execute_result"
    }
   ],
   "source": [
    "produtoMaisCaro = merged_data.loc[merged_data[\"price\"].idxmax()]\n",
    "\n",
    "produtoMaisCaro[['product_id', 'product_category_name', 'price']]"
   ]
  },
  {
   "cell_type": "code",
   "execution_count": 1,
   "metadata": {},
   "outputs": [
    {
     "ename": "NameError",
     "evalue": "name 'merged_data' is not defined",
     "output_type": "error",
     "traceback": [
      "\u001b[1;31m---------------------------------------------------------------------------\u001b[0m",
      "\u001b[1;31mNameError\u001b[0m                                 Traceback (most recent call last)",
      "Cell \u001b[1;32mIn[1], line 1\u001b[0m\n\u001b[1;32m----> 1\u001b[0m produtoMaisBarato \u001b[38;5;241m=\u001b[39m \u001b[43mmerged_data\u001b[49m\u001b[38;5;241m.\u001b[39mloc[merged_data[\u001b[38;5;124m\"\u001b[39m\u001b[38;5;124mprice\u001b[39m\u001b[38;5;124m\"\u001b[39m]\u001b[38;5;241m.\u001b[39midxmin()]\n\u001b[0;32m      3\u001b[0m produtoMaisBarato[[\u001b[38;5;124m\"\u001b[39m\u001b[38;5;124mproduct_id\u001b[39m\u001b[38;5;124m\"\u001b[39m, \u001b[38;5;124m\"\u001b[39m\u001b[38;5;124mproduct_category_name\u001b[39m\u001b[38;5;124m\"\u001b[39m, \u001b[38;5;124m\"\u001b[39m\u001b[38;5;124mprice\u001b[39m\u001b[38;5;124m\"\u001b[39m]]\n",
      "\u001b[1;31mNameError\u001b[0m: name 'merged_data' is not defined"
     ]
    }
   ],
   "source": [
    "produtoMaisBarato = merged_data.loc[merged_data[\"price\"].idxmin()]\n",
    "\n",
    "produtoMaisBarato[[\"product_id\", \"product_category_name\", \"price\"]]"
   ]
  },
  {
   "cell_type": "code",
   "execution_count": 19,
   "metadata": {},
   "outputs": [
    {
     "name": "stdout",
     "output_type": "stream",
     "text": [
      "product_category_name\n",
      "cama_mesa_banho                  3029\n",
      "esporte_lazer                    2867\n",
      "moveis_decoracao                 2657\n",
      "beleza_saude                     2444\n",
      "utilidades_domesticas            2335\n",
      "                                 ... \n",
      "fashion_roupa_infanto_juvenil       5\n",
      "casa_conforto_2                     5\n",
      "pc_gamer                            3\n",
      "seguros_e_servicos                  2\n",
      "cds_dvds_musicais                   1\n",
      "Name: count, Length: 73, dtype: int64\n"
     ]
    }
   ],
   "source": [
    "# Agrupamento e totalização das Categorias \n",
    "contagem_categorias = products['product_category_name'].value_counts()\n",
    "print(contagem_categorias)"
   ]
  }
 ],
 "metadata": {
  "kernelspec": {
   "display_name": "Python 3",
   "language": "python",
   "name": "python3"
  },
  "language_info": {
   "codemirror_mode": {
    "name": "ipython",
    "version": 3
   },
   "file_extension": ".py",
   "mimetype": "text/x-python",
   "name": "python",
   "nbconvert_exporter": "python",
   "pygments_lexer": "ipython3",
   "version": "3.11.4"
  }
 },
 "nbformat": 4,
 "nbformat_minor": 2
}
