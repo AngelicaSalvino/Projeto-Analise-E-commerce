{
 "cells": [
  {
   "cell_type": "code",
   "execution_count": 1,
   "id": "a7800b27",
   "metadata": {},
   "outputs": [
    {
     "name": "stdout",
     "output_type": "stream",
     "text": [
      "Requirement already satisfied: requests in c:\\users\\angel\\appdata\\local\\programs\\python\\python311\\lib\\site-packages (2.31.0)\n",
      "Requirement already satisfied: charset-normalizer<4,>=2 in c:\\users\\angel\\appdata\\local\\programs\\python\\python311\\lib\\site-packages (from requests) (3.3.2)\n",
      "Requirement already satisfied: idna<4,>=2.5 in c:\\users\\angel\\appdata\\local\\programs\\python\\python311\\lib\\site-packages (from requests) (3.4)\n",
      "Requirement already satisfied: urllib3<3,>=1.21.1 in c:\\users\\angel\\appdata\\local\\programs\\python\\python311\\lib\\site-packages (from requests) (2.1.0)\n",
      "Requirement already satisfied: certifi>=2017.4.17 in c:\\users\\angel\\appdata\\local\\programs\\python\\python311\\lib\\site-packages (from requests) (2023.11.17)\n"
     ]
    }
   ],
   "source": [
    "#Instalação do pacote \"requests\"\n",
    "!pip install requests"
   ]
  },
  {
   "cell_type": "code",
   "execution_count": 2,
   "id": "24445a0f",
   "metadata": {},
   "outputs": [],
   "source": [
    "#Importação dos pacotes\n",
    "import requests\n",
    "import subprocess\n",
    "import sys\n",
    "import os\n",
    "import json"
   ]
  },
  {
   "cell_type": "code",
   "execution_count": 3,
   "id": "01400b3f",
   "metadata": {},
   "outputs": [],
   "source": [
    "def install(package):\n",
    "    subprocess.check_call([sys.executable, \"-m\", \"pip\", \"install\", package])\n",
    "\n",
    "install('kaggle')"
   ]
  },
  {
   "cell_type": "code",
   "execution_count": 4,
   "id": "52f47e7d",
   "metadata": {},
   "outputs": [],
   "source": [
    "# Função para carregar as credenciais do arquivo JSON\n",
    "def carregar_credenciais(caminho_arquivo):\n",
    "    with open(caminho_arquivo) as arquivo:\n",
    "        credenciais = json.load(arquivo)\n",
    "    return credenciais\n",
    "\n",
    "# Caminho para o arquivo JSON com as credenciais\n",
    "caminho_arquivo_credenciais = os.path.join(os.path.expanduser('~'), '.kaggle/kaggle.json')\n",
    "\n",
    "# Carregar as credenciais do arquivo JSON\n",
    "kaggle_config = carregar_credenciais(\"C:/credenciais.json\")\n",
    "\n",
    "# Validando se a biblioteca kaggle realmente está instalada\n",
    "os.makedirs(os.path.join(os.path.expanduser('~'), '.kaggle'), exist_ok=True)\n",
    "\n",
    "# Escrevendo o arquivo JSON do kaggle\n",
    "with open(os.path.join(os.path.expanduser('~'), '.kaggle/kaggle.json'), 'w') as file:\n",
    "    json.dump(kaggle_config, file)\n",
    "\n",
    "# Setando permissões\n",
    "os.chmod(os.path.join(os.path.expanduser('~'), '.kaggle/kaggle.json'), 0o600)"
   ]
  },
  {
   "cell_type": "code",
   "execution_count": 11,
   "id": "fb14fe1d",
   "metadata": {},
   "outputs": [],
   "source": [
    "def download_kaggle_dataset(dataset):\n",
    "    subprocess.run(['kaggle', 'datasets', 'download', '-d', dataset])\n",
    "\n",
    "download_kaggle_dataset('olistbr/brazilian-ecommerce')"
   ]
  },
  {
   "cell_type": "code",
   "execution_count": 8,
   "id": "90b09f9e",
   "metadata": {},
   "outputs": [
    {
     "name": "stdout",
     "output_type": "stream",
     "text": [
      "O arquivo brazilian-ecommerce.zip não foi encontrado.\n"
     ]
    }
   ],
   "source": [
    "caminho_arquivo_zip = 'brazilian-ecommerce.zip'\n",
    "\n",
    "if os.path.exists(caminho_arquivo_zip):\n",
    "    with zipfile.ZipFile(caminho_arquivo_zip, 'r') as zip_ref:\n",
    "        zip_ref.extractall('brazilian_ecommerce')\n",
    "else:\n",
    "    print(f'O arquivo {caminho_arquivo_zip} não foi encontrado.')"
   ]
  },
  {
   "cell_type": "code",
   "execution_count": 9,
   "id": "a4f8c35f",
   "metadata": {},
   "outputs": [
    {
     "name": "stdout",
     "output_type": "stream",
     "text": [
      "Diretório Atual: c:\\Users\\angel\\OneDrive\\Área de Trabalho\\Projeto-Analise-E-commerce\n"
     ]
    }
   ],
   "source": [
    "import os\n",
    "\n",
    "print(\"Diretório Atual:\", os.getcwd())"
   ]
  },
  {
   "cell_type": "code",
   "execution_count": null,
   "id": "06285342",
   "metadata": {},
   "outputs": [],
   "source": [
    "import zipfile\n",
    "\n",
    "caminho_arquivo_zip = 'C:/Users/angel/Downloads/brazilian-ecommerce.zip'\n",
    "\n",
    "with zipfile.ZipFile(caminho_arquivo_zip, 'r') as zip_ref:\n",
    "    zip_ref.extractall('brazilian_ecommerce')"
   ]
  },
  {
   "cell_type": "code",
   "execution_count": null,
   "id": "6845f839",
   "metadata": {},
   "outputs": [],
   "source": []
  }
 ],
 "metadata": {
  "kernelspec": {
   "display_name": "Python 3 (ipykernel)",
   "language": "python",
   "name": "python3"
  },
  "language_info": {
   "codemirror_mode": {
    "name": "ipython",
    "version": 3
   },
   "file_extension": ".py",
   "mimetype": "text/x-python",
   "name": "python",
   "nbconvert_exporter": "python",
   "pygments_lexer": "ipython3",
   "version": "3.11.5"
  }
 },
 "nbformat": 4,
 "nbformat_minor": 5
}
